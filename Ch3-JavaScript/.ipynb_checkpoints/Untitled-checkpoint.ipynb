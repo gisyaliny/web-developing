{
 "cells": [
  {
   "cell_type": "markdown",
   "metadata": {},
   "source": [
    "# JavaScript\n",
    "* interpreting programming language\n",
    "* runs in client server\n",
    "* object-oriented language"
   ]
  },
  {
   "cell_type": "markdown",
   "metadata": {},
   "source": [
    "## 1. Three types using JavaScript\n",
    "---\n",
    "#### internal style    \n",
    "`<script>`   \n",
    "    `// Your JavaScript`   \n",
    "`</script>`   \n",
    "\n",
    "---\n",
    "#### external style   \n",
    "`<script src='yourScript.js'></script>`   \n",
    "\n",
    "---\n",
    "#### function style   \n",
    "`<button`   \n",
    "    `onclick = 'createParagraph()'>`   \n",
    "`</button>`\n",
    "\n",
    "---"
   ]
  },
  {
   "cell_type": "code",
   "execution_count": null,
   "metadata": {},
   "outputs": [],
   "source": []
  }
 ],
 "metadata": {
  "kernelspec": {
   "display_name": "Python 3",
   "language": "python",
   "name": "python3"
  },
  "language_info": {
   "codemirror_mode": {
    "name": "ipython",
    "version": 3
   },
   "file_extension": ".py",
   "mimetype": "text/x-python",
   "name": "python",
   "nbconvert_exporter": "python",
   "pygments_lexer": "ipython3",
   "version": "3.7.6"
  }
 },
 "nbformat": 4,
 "nbformat_minor": 4
}
